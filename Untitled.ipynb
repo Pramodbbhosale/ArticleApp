{
 "cells": [
  {
   "cell_type": "code",
   "execution_count": 2,
   "id": "74069ad2",
   "metadata": {},
   "outputs": [
    {
     "name": "stdout",
     "output_type": "stream",
     "text": [
      "Collecting ipython-sql\n",
      "  Downloading ipython_sql-0.4.1-py3-none-any.whl (21 kB)\n",
      "Collecting sqlparse\n",
      "  Downloading sqlparse-0.4.3-py3-none-any.whl (42 kB)\n",
      "     ---------------------------------------- 42.8/42.8 kB 1.0 MB/s eta 0:00:00\n",
      "Requirement already satisfied: sqlalchemy>=0.6.7 in c:\\users\\pramo\\anaconda3\\lib\\site-packages (from ipython-sql) (1.3.23)\n",
      "Collecting prettytable<1\n",
      "  Downloading prettytable-0.7.2.zip (28 kB)\n",
      "  Preparing metadata (setup.py): started\n",
      "  Preparing metadata (setup.py): finished with status 'done'\n",
      "Requirement already satisfied: ipython>=1.0 in c:\\users\\pramo\\anaconda3\\lib\\site-packages (from ipython-sql) (8.2.0)\n",
      "Requirement already satisfied: ipython-genutils>=0.1.0 in c:\\users\\pramo\\anaconda3\\lib\\site-packages (from ipython-sql) (0.2.0)\n",
      "Requirement already satisfied: six in c:\\users\\pramo\\anaconda3\\lib\\site-packages (from ipython-sql) (1.16.0)\n",
      "Requirement already satisfied: setuptools>=18.5 in c:\\users\\pramo\\anaconda3\\lib\\site-packages (from ipython>=1.0->ipython-sql) (62.6.0)\n",
      "Requirement already satisfied: colorama in c:\\users\\pramo\\anaconda3\\lib\\site-packages (from ipython>=1.0->ipython-sql) (0.4.6)\n",
      "Requirement already satisfied: jedi>=0.16 in c:\\users\\pramo\\anaconda3\\lib\\site-packages (from ipython>=1.0->ipython-sql) (0.18.1)\n",
      "Requirement already satisfied: pickleshare in c:\\users\\pramo\\anaconda3\\lib\\site-packages (from ipython>=1.0->ipython-sql) (0.7.5)\n",
      "Requirement already satisfied: matplotlib-inline in c:\\users\\pramo\\anaconda3\\lib\\site-packages (from ipython>=1.0->ipython-sql) (0.1.2)\n",
      "Requirement already satisfied: backcall in c:\\users\\pramo\\anaconda3\\lib\\site-packages (from ipython>=1.0->ipython-sql) (0.2.0)\n",
      "Requirement already satisfied: prompt-toolkit!=3.0.0,!=3.0.1,<3.1.0,>=2.0.0 in c:\\users\\pramo\\anaconda3\\lib\\site-packages (from ipython>=1.0->ipython-sql) (3.0.20)\n",
      "Requirement already satisfied: decorator in c:\\users\\pramo\\anaconda3\\lib\\site-packages (from ipython>=1.0->ipython-sql) (5.1.1)\n",
      "Requirement already satisfied: stack-data in c:\\users\\pramo\\anaconda3\\lib\\site-packages (from ipython>=1.0->ipython-sql) (0.2.0)\n",
      "Requirement already satisfied: pygments>=2.4.0 in c:\\users\\pramo\\anaconda3\\lib\\site-packages (from ipython>=1.0->ipython-sql) (2.11.2)\n",
      "Requirement already satisfied: traitlets>=5 in c:\\users\\pramo\\anaconda3\\lib\\site-packages (from ipython>=1.0->ipython-sql) (5.1.1)\n",
      "Requirement already satisfied: parso<0.9.0,>=0.8.0 in c:\\users\\pramo\\anaconda3\\lib\\site-packages (from jedi>=0.16->ipython>=1.0->ipython-sql) (0.8.3)\n",
      "Requirement already satisfied: wcwidth in c:\\users\\pramo\\anaconda3\\lib\\site-packages (from prompt-toolkit!=3.0.0,!=3.0.1,<3.1.0,>=2.0.0->ipython>=1.0->ipython-sql) (0.2.5)\n",
      "Requirement already satisfied: executing in c:\\users\\pramo\\anaconda3\\lib\\site-packages (from stack-data->ipython>=1.0->ipython-sql) (0.8.3)\n",
      "Requirement already satisfied: pure-eval in c:\\users\\pramo\\anaconda3\\lib\\site-packages (from stack-data->ipython>=1.0->ipython-sql) (0.2.2)\n",
      "Requirement already satisfied: asttokens in c:\\users\\pramo\\anaconda3\\lib\\site-packages (from stack-data->ipython>=1.0->ipython-sql) (2.0.5)\n",
      "Building wheels for collected packages: prettytable\n",
      "  Building wheel for prettytable (setup.py): started\n",
      "  Building wheel for prettytable (setup.py): finished with status 'done'\n",
      "  Created wheel for prettytable: filename=prettytable-0.7.2-py3-none-any.whl size=13695 sha256=6d87b57f704a14e2ee3f881b456767f9e4746fd34e4c0b37a5bef9206100a070\n",
      "  Stored in directory: c:\\users\\pramo\\appdata\\local\\pip\\cache\\wheels\\b3\\58\\58\\e8ac98e68ee981bbab5a2dbf3914b79b9d560ad6aeeb9dac3c\n",
      "Successfully built prettytable\n",
      "Installing collected packages: prettytable, sqlparse, ipython-sql\n",
      "Successfully installed ipython-sql-0.4.1 prettytable-0.7.2 sqlparse-0.4.3\n",
      "Note: you may need to restart the kernel to use updated packages.\n"
     ]
    }
   ],
   "source": [
    "pip install ipython-sql"
   ]
  },
  {
   "cell_type": "code",
   "execution_count": 3,
   "id": "e210e1c3",
   "metadata": {},
   "outputs": [],
   "source": [
    "%load_ext sql"
   ]
  },
  {
   "cell_type": "code",
   "execution_count": 4,
   "id": "48a2b21f",
   "metadata": {},
   "outputs": [],
   "source": [
    "%reload_ext sql"
   ]
  },
  {
   "cell_type": "code",
   "execution_count": 5,
   "id": "7de0c85d",
   "metadata": {},
   "outputs": [],
   "source": [
    "%config SqlMagic.autopandas=True"
   ]
  },
  {
   "cell_type": "code",
   "execution_count": 8,
   "id": "fee79d24",
   "metadata": {},
   "outputs": [
    {
     "name": "stdout",
     "output_type": "stream",
     "text": [
      "Collecting mysql-pythonNote: you may need to restart the kernel to use updated packages.\n"
     ]
    },
    {
     "name": "stderr",
     "output_type": "stream",
     "text": [
      "  error: subprocess-exited-with-error\n",
      "  \n",
      "  python setup.py bdist_wheel did not run successfully.\n",
      "  exit code: 1\n",
      "  \n",
      "  [28 lines of output]\n",
      "  C:\\Users\\pramo\\anaconda3\\lib\\site-packages\\setuptools\\dist.py:772: UserWarning: Usage of dash-separated 'distribution-name' will not be supported in future versions. Please use the underscore name 'distribution_name' instead\n",
      "    warnings.warn(\n",
      "  C:\\Users\\pramo\\anaconda3\\lib\\site-packages\\setuptools\\dist.py:772: UserWarning: Usage of dash-separated 'build-requires' will not be supported in future versions. Please use the underscore name 'build_requires' instead\n",
      "    warnings.warn(\n",
      "  running bdist_wheel\n",
      "  running build\n",
      "  running build_py\n",
      "  creating build\n",
      "  creating build\\lib.win-amd64-cpython-39\n",
      "  copying _mysql_exceptions.py -> build\\lib.win-amd64-cpython-39\n",
      "  creating build\\lib.win-amd64-cpython-39\\MySQLdb\n",
      "  copying MySQLdb\\__init__.py -> build\\lib.win-amd64-cpython-39\\MySQLdb\n",
      "  copying MySQLdb\\converters.py -> build\\lib.win-amd64-cpython-39\\MySQLdb\n",
      "  copying MySQLdb\\connections.py -> build\\lib.win-amd64-cpython-39\\MySQLdb\n",
      "  copying MySQLdb\\cursors.py -> build\\lib.win-amd64-cpython-39\\MySQLdb\n",
      "  copying MySQLdb\\release.py -> build\\lib.win-amd64-cpython-39\\MySQLdb\n",
      "  copying MySQLdb\\times.py -> build\\lib.win-amd64-cpython-39\\MySQLdb\n",
      "  creating build\\lib.win-amd64-cpython-39\\MySQLdb\\constants\n",
      "  copying MySQLdb\\constants\\__init__.py -> build\\lib.win-amd64-cpython-39\\MySQLdb\\constants\n",
      "  copying MySQLdb\\constants\\CR.py -> build\\lib.win-amd64-cpython-39\\MySQLdb\\constants\n",
      "  copying MySQLdb\\constants\\FIELD_TYPE.py -> build\\lib.win-amd64-cpython-39\\MySQLdb\\constants\n",
      "  copying MySQLdb\\constants\\ER.py -> build\\lib.win-amd64-cpython-39\\MySQLdb\\constants\n",
      "  copying MySQLdb\\constants\\FLAG.py -> build\\lib.win-amd64-cpython-39\\MySQLdb\\constants\n",
      "  copying MySQLdb\\constants\\REFRESH.py -> build\\lib.win-amd64-cpython-39\\MySQLdb\\constants\n",
      "  copying MySQLdb\\constants\\CLIENT.py -> build\\lib.win-amd64-cpython-39\\MySQLdb\\constants\n",
      "  running build_ext\n",
      "  building '_mysql' extension\n",
      "  error: Microsoft Visual C++ 14.0 or greater is required. Get it with \"Microsoft C++ Build Tools\": https://visualstudio.microsoft.com/visual-cpp-build-tools/\n",
      "  [end of output]\n",
      "  \n",
      "  note: This error originates from a subprocess, and is likely not a problem with pip.\n",
      "  ERROR: Failed building wheel for mysql-python\n",
      "  error: subprocess-exited-with-error\n",
      "  \n",
      "  Running setup.py install for mysql-python did not run successfully.\n",
      "  exit code: 1\n",
      "  \n",
      "  [30 lines of output]\n",
      "  C:\\Users\\pramo\\anaconda3\\lib\\site-packages\\setuptools\\dist.py:772: UserWarning: Usage of dash-separated 'distribution-name' will not be supported in future versions. Please use the underscore name 'distribution_name' instead\n",
      "    warnings.warn(\n",
      "  C:\\Users\\pramo\\anaconda3\\lib\\site-packages\\setuptools\\dist.py:772: UserWarning: Usage of dash-separated 'build-requires' will not be supported in future versions. Please use the underscore name 'build_requires' instead\n",
      "    warnings.warn(\n",
      "  running install\n",
      "  C:\\Users\\pramo\\anaconda3\\lib\\site-packages\\setuptools\\command\\install.py:34: SetuptoolsDeprecationWarning: setup.py install is deprecated. Use build and pip and other standards-based tools.\n",
      "    warnings.warn(\n",
      "  running build\n",
      "  running build_py\n",
      "  creating build\n",
      "  creating build\\lib.win-amd64-cpython-39\n",
      "  copying _mysql_exceptions.py -> build\\lib.win-amd64-cpython-39\n",
      "  creating build\\lib.win-amd64-cpython-39\\MySQLdb\n",
      "  copying MySQLdb\\__init__.py -> build\\lib.win-amd64-cpython-39\\MySQLdb\n",
      "  copying MySQLdb\\converters.py -> build\\lib.win-amd64-cpython-39\\MySQLdb\n",
      "  copying MySQLdb\\connections.py -> build\\lib.win-amd64-cpython-39\\MySQLdb\n",
      "  copying MySQLdb\\cursors.py -> build\\lib.win-amd64-cpython-39\\MySQLdb\n",
      "  copying MySQLdb\\release.py -> build\\lib.win-amd64-cpython-39\\MySQLdb\n",
      "  copying MySQLdb\\times.py -> build\\lib.win-amd64-cpython-39\\MySQLdb\n",
      "  creating build\\lib.win-amd64-cpython-39\\MySQLdb\\constants\n",
      "  copying MySQLdb\\constants\\__init__.py -> build\\lib.win-amd64-cpython-39\\MySQLdb\\constants\n",
      "  copying MySQLdb\\constants\\CR.py -> build\\lib.win-amd64-cpython-39\\MySQLdb\\constants\n",
      "  copying MySQLdb\\constants\\FIELD_TYPE.py -> build\\lib.win-amd64-cpython-39\\MySQLdb\\constants\n",
      "  copying MySQLdb\\constants\\ER.py -> build\\lib.win-amd64-cpython-39\\MySQLdb\\constants\n",
      "  copying MySQLdb\\constants\\FLAG.py -> build\\lib.win-amd64-cpython-39\\MySQLdb\\constants\n",
      "  copying MySQLdb\\constants\\REFRESH.py -> build\\lib.win-amd64-cpython-39\\MySQLdb\\constants\n",
      "  copying MySQLdb\\constants\\CLIENT.py -> build\\lib.win-amd64-cpython-39\\MySQLdb\\constants\n",
      "  running build_ext\n",
      "  building '_mysql' extension\n",
      "  error: Microsoft Visual C++ 14.0 or greater is required. Get it with \"Microsoft C++ Build Tools\": https://visualstudio.microsoft.com/visual-cpp-build-tools/\n",
      "  [end of output]\n",
      "  \n",
      "  note: This error originates from a subprocess, and is likely not a problem with pip.\n",
      "error: legacy-install-failure\n",
      "\n",
      "Encountered error while trying to install package.\n",
      "\n",
      "mysql-python\n",
      "\n",
      "note: This is an issue with the package mentioned above, not pip.\n",
      "hint: See above for output from the failure.\n"
     ]
    },
    {
     "name": "stdout",
     "output_type": "stream",
     "text": [
      "\n",
      "  Downloading MySQL-python-1.2.5.zip (108 kB)\n",
      "     ------------------------------------ 108.9/108.9 kB 628.6 kB/s eta 0:00:00\n",
      "  Preparing metadata (setup.py): started\n",
      "  Preparing metadata (setup.py): finished with status 'done'\n",
      "Building wheels for collected packages: mysql-python\n",
      "  Building wheel for mysql-python (setup.py): started\n",
      "  Building wheel for mysql-python (setup.py): finished with status 'error'\n",
      "  Running setup.py clean for mysql-python\n",
      "Failed to build mysql-python\n",
      "Installing collected packages: mysql-python\n",
      "  Running setup.py install for mysql-python: started\n",
      "  Running setup.py install for mysql-python: finished with status 'error'\n"
     ]
    }
   ],
   "source": [
    "pip install mysql-python\n"
   ]
  },
  {
   "cell_type": "code",
   "execution_count": 10,
   "id": "0041a6a1",
   "metadata": {},
   "outputs": [
    {
     "ename": "ModuleNotFoundError",
     "evalue": "No module named 'MySQLdb'",
     "output_type": "error",
     "traceback": [
      "\u001b[1;31m---------------------------------------------------------------------------\u001b[0m",
      "\u001b[1;31mModuleNotFoundError\u001b[0m                       Traceback (most recent call last)",
      "Input \u001b[1;32mIn [10]\u001b[0m, in \u001b[0;36m<cell line: 1>\u001b[1;34m()\u001b[0m\n\u001b[1;32m----> 1\u001b[0m \u001b[38;5;28;01mimport\u001b[39;00m \u001b[38;5;21;01mMySQLdb\u001b[39;00m\n",
      "\u001b[1;31mModuleNotFoundError\u001b[0m: No module named 'MySQLdb'"
     ]
    }
   ],
   "source": [
    "import MySQLdb"
   ]
  },
  {
   "cell_type": "code",
   "execution_count": null,
   "id": "f699fa68",
   "metadata": {},
   "outputs": [],
   "source": []
  }
 ],
 "metadata": {
  "kernelspec": {
   "display_name": "Python 3 (ipykernel)",
   "language": "python",
   "name": "python3"
  },
  "language_info": {
   "codemirror_mode": {
    "name": "ipython",
    "version": 3
   },
   "file_extension": ".py",
   "mimetype": "text/x-python",
   "name": "python",
   "nbconvert_exporter": "python",
   "pygments_lexer": "ipython3",
   "version": "3.9.12"
  }
 },
 "nbformat": 4,
 "nbformat_minor": 5
}
